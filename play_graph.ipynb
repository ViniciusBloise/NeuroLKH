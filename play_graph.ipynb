{
 "cells": [
  {
   "cell_type": "code",
   "execution_count": 1,
   "metadata": {},
   "outputs": [],
   "source": [
    "import numpy as np\n",
    "import pandas as pd\n",
    "import matplotlib.pyplot as plt\n",
    "import seaborn as sns"
   ]
  },
  {
   "cell_type": "code",
   "execution_count": 49,
   "metadata": {},
   "outputs": [],
   "source": [
    "def read_pi(filename:str) -> np.array:\n",
    "    with open(filename) as f:\n",
    "        lines = f.readlines()\n",
    "    feats = []\n",
    "\n",
    "    for line in lines[1: int(lines[0])+1]:\n",
    "        feats.append( int(int(line.split(' ')[-1].strip())))\n",
    "    \n",
    "    return np.array(feats)"
   ]
  },
  {
   "cell_type": "code",
   "execution_count": 32,
   "metadata": {},
   "outputs": [],
   "source": [
    "def normalize_data(data:np.array) -> np.array:\n",
    "    return data / np.abs(data).max()"
   ]
  },
  {
   "cell_type": "code",
   "execution_count": 18,
   "metadata": {},
   "outputs": [
    {
     "name": "stdout",
     "output_type": "stream",
     "text": [
      "[1, 14, 8, 29, 5]\n"
     ]
    }
   ],
   "source": [
    "line = '1 0 5 2 0 15 100 9 200 30 300 6 400'\n",
    "items = np.array(line.split(' '))\n",
    "cands = [int(items[3 + i * 2])-1 for i in range(5)]\n",
    "print(cands)"
   ]
  },
  {
   "cell_type": "code",
   "execution_count": 55,
   "metadata": {},
   "outputs": [
    {
     "name": "stdout",
     "output_type": "stream",
     "text": [
      "['darkblue' 'red' 'darkblue' 'darkblue' 'darkblue' 'darkblue' 'darkblue'\n",
      " 'darkblue' 'darkblue' 'red' 'darkblue' 'darkblue' 'darkblue' 'darkblue'\n",
      " 'darkblue' 'darkblue' 'darkblue' 'darkblue' 'darkblue' 'darkblue' 'red'\n",
      " 'darkblue' 'darkblue' 'red' 'darkblue' 'darkblue' 'darkblue' 'darkblue'\n",
      " 'darkblue' 'darkblue']\n"
     ]
    }
   ],
   "source": [
    "instance = 'vn_30'\n",
    "filename = f'result/{instance}/pi/'\n",
    "\n",
    "pi = read_pi(filename=filename + '0.txt')\n",
    "norm_pi = normalize_data(pi)\n",
    "#print(norm_pi)\n",
    "norm_pi = normalize_data(pi)\n",
    "color = np.array([ 'darkblue' for i in range(norm_pi.size)])\n",
    "color[np.argwhere(norm_pi < 0)] = 'red'\n",
    "\n",
    "print(color)\n"
   ]
  },
  {
   "cell_type": "code",
   "execution_count": 18,
   "metadata": {},
   "outputs": [
    {
     "name": "stdout",
     "output_type": "stream",
     "text": [
      "[[[25 19 17 14 27 24 22 28  3  5 26  9 11 13 12 10 21 18  1 16]\n",
      "  [26 20 18 15 28 25 23 29  4  6 27 10 12 14 13 11 22 19  2 17]\n",
      "  [27 21 19 16 29 26 24 30  5  7 28 11 13 15 14 12 23 20  3 18]\n",
      "  [28 22 20 17 30 27 25 31  6  8 29 12 14 16 15 13 24 21  4 19]\n",
      "  [29 23 21 18 31 28 26 32  7  9 30 13 15 17 16 14 25 22  5 20]\n",
      "  [30 24 22 19 32 29 27 33  8 10 31 14 16 18 17 15 26 23  6 21]\n",
      "  [31 25 23 20 33 30 28 34  9 11 32 15 17 19 18 16 27 24  7 22]\n",
      "  [32 26 24 21 34 31 29 35 10 12 33 16 18 20 19 17 28 25  8 23]\n",
      "  [33 27 25 22 35 32 30 36 11 13 34 17 19 21 20 18 29 26  9 24]\n",
      "  [34 28 26 23 36 33 31 37 12 14 35 18 20 22 21 19 30 27 10 25]]]\n",
      "(1, 10, 20)\n",
      "[[[0]]\n",
      "\n",
      " [[1]]\n",
      "\n",
      " [[2]]\n",
      "\n",
      " [[3]]\n",
      "\n",
      " [[4]]\n",
      "\n",
      " [[5]]\n",
      "\n",
      " [[6]]\n",
      "\n",
      " [[7]]\n",
      "\n",
      " [[8]]\n",
      "\n",
      " [[9]]]\n",
      "[[[25 19 17 14 27 24 22 28  3  5 26  9 11 13 12 10 21 18  1 16]]\n",
      "\n",
      " [[26 20 18 15 28 25 23 29  4  6 27 10 12 14 13 11 22 19  2 17]]\n",
      "\n",
      " [[27 21 19 16 29 26 24 30  5  7 28 11 13 15 14 12 23 20  3 18]]\n",
      "\n",
      " [[28 22 20 17 30 27 25 31  6  8 29 12 14 16 15 13 24 21  4 19]]\n",
      "\n",
      " [[29 23 21 18 31 28 26 32  7  9 30 13 15 17 16 14 25 22  5 20]]\n",
      "\n",
      " [[30 24 22 19 32 29 27 33  8 10 31 14 16 18 17 15 26 23  6 21]]\n",
      "\n",
      " [[31 25 23 20 33 30 28 34  9 11 32 15 17 19 18 16 27 24  7 22]]\n",
      "\n",
      " [[32 26 24 21 34 31 29 35 10 12 33 16 18 20 19 17 28 25  8 23]]\n",
      "\n",
      " [[33 27 25 22 35 32 30 36 11 13 34 17 19 21 20 18 29 26  9 24]]\n",
      "\n",
      " [[34 28 26 23 36 33 31 37 12 14 35 18 20 22 21 19 30 27 10 25]]]\n"
     ]
    }
   ],
   "source": [
    "line = \"25 30874 500 19 108227 380 17 170177 342 14 192679 284 27 212061 543 24 217904 485 22 243059 445 28 248115 562 3 288879 66 5 290081 105 26 292309 522 9 383580 188 11 408771 231 13 456957 267 12 501432 251 10 541397 219 21 555265 435 18 570107 378 1 597818 32 16 614892 338\"\n",
    "items = line.strip().split(' ')\n",
    "\n",
    "batch_size = 10\n",
    "n_nodes = 30\n",
    "\n",
    "edge_index = []\n",
    "for batch in range(batch_size):\n",
    "    for item in range(len(items)//3):\n",
    "        edge_index.append( int( items[item * 3]) + batch)\n",
    "\n",
    "edge_index = np.array(edge_index).reshape(1, -1, 20)\n",
    "print(edge_index)\n",
    "print(edge_index.shape)\n",
    "new_edge_index = edge_index.reshape(batch_size, -1, 20)\n",
    "print(np.arange(batch_size).reshape(-1, 1, 1), np.arange(n_nodes).reshape(1, -1, 1))\n",
    "\n",
    "exit\n",
    "#print(new_edge_index)\n"
   ]
  },
  {
   "cell_type": "code",
   "execution_count": 11,
   "metadata": {},
   "outputs": [
    {
     "name": "stdout",
     "output_type": "stream",
     "text": [
      "(1, 30, 20)\n"
     ]
    },
    {
     "data": {
      "text/plain": [
       "(30, 20)"
      ]
     },
     "execution_count": 11,
     "metadata": {},
     "output_type": "execute_result"
    }
   ],
   "source": [
    "batch_size = 10\n",
    "n_nodes = 30\n",
    "n_neighbours = 20\n",
    "\n",
    "edges = np.arange(n_nodes * n_neighbours).reshape(1, n_nodes, n_neighbours)\n",
    "print(edges.shape)\n",
    "np.concatenate(edges).shape\n"
   ]
  }
 ],
 "metadata": {
  "kernelspec": {
   "display_name": "Python 3.9.12 ('py39')",
   "language": "python",
   "name": "python3"
  },
  "language_info": {
   "codemirror_mode": {
    "name": "ipython",
    "version": 3
   },
   "file_extension": ".py",
   "mimetype": "text/x-python",
   "name": "python",
   "nbconvert_exporter": "python",
   "pygments_lexer": "ipython3",
   "version": "3.9.12 | packaged by conda-forge | (main, Mar 24 2022, 23:27:05) \n[Clang 12.0.1 ]"
  },
  "orig_nbformat": 4,
  "vscode": {
   "interpreter": {
    "hash": "ccc48cba39b1f4459234e21666e4737e80c10c62074b954fdcbe9cae915e458d"
   }
  }
 },
 "nbformat": 4,
 "nbformat_minor": 2
}
