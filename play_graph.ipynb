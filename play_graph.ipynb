{
 "cells": [
  {
   "cell_type": "code",
   "execution_count": 2,
   "metadata": {},
   "outputs": [],
   "source": [
    "import numpy as np\n",
    "import pandas as pd\n",
    "import matplotlib.pyplot as plt\n",
    "import seaborn as sns\n"
   ]
  },
  {
   "cell_type": "code",
   "execution_count": 49,
   "metadata": {},
   "outputs": [],
   "source": [
    "def read_pi(filename:str) -> np.array:\n",
    "    with open(filename) as f:\n",
    "        lines = f.readlines()\n",
    "    feats = []\n",
    "\n",
    "    for line in lines[1: int(lines[0])+1]:\n",
    "        feats.append( int(int(line.split(' ')[-1].strip())))\n",
    "    \n",
    "    return np.array(feats)"
   ]
  },
  {
   "cell_type": "code",
   "execution_count": 32,
   "metadata": {},
   "outputs": [],
   "source": [
    "def normalize_data(data:np.array) -> np.array:\n",
    "    return data / np.abs(data).max()"
   ]
  },
  {
   "cell_type": "code",
   "execution_count": null,
   "metadata": {},
   "outputs": [],
   "source": []
  },
  {
   "cell_type": "code",
   "execution_count": 50,
   "metadata": {},
   "outputs": [
    {
     "name": "stdout",
     "output_type": "stream",
     "text": [
      "30\n",
      "[[-0.6327314]\n",
      " [-0.1217496]\n",
      " [-1.       ]\n",
      " [-0.4576806]]\n"
     ]
    }
   ],
   "source": [
    "instance = 'vn_30'\n",
    "filename = f'result/{instance}/pi/'\n",
    "\n",
    "pi = read_pi(filename=filename + '0.txt')\n",
    "norm_pi = normalize_data(pi)\n",
    "#print(norm_pi)\n",
    "norm_pi = normalize_data(pi)\n",
    "color = [ 'darkblue' for i in arange(norm_pi.size)]\n",
    "print(norm_pi[np.argwhere(norm_pi < 0)])\n"
   ]
  }
 ],
 "metadata": {
  "kernelspec": {
   "display_name": "Python 3.9.12 ('py39')",
   "language": "python",
   "name": "python3"
  },
  "language_info": {
   "codemirror_mode": {
    "name": "ipython",
    "version": 3
   },
   "file_extension": ".py",
   "mimetype": "text/x-python",
   "name": "python",
   "nbconvert_exporter": "python",
   "pygments_lexer": "ipython3",
   "version": "3.9.12"
  },
  "orig_nbformat": 4,
  "vscode": {
   "interpreter": {
    "hash": "ccc48cba39b1f4459234e21666e4737e80c10c62074b954fdcbe9cae915e458d"
   }
  }
 },
 "nbformat": 4,
 "nbformat_minor": 2
}
