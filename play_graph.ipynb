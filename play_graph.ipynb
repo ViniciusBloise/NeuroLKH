{
 "cells": [
  {
   "cell_type": "code",
   "execution_count": 9,
   "metadata": {},
   "outputs": [],
   "source": [
    "import numpy as np\n",
    "import pandas as pd\n",
    "import matplotlib.pyplot as plt\n",
    "import seaborn as sns\n"
   ]
  },
  {
   "cell_type": "code",
   "execution_count": 49,
   "metadata": {},
   "outputs": [],
   "source": [
    "def read_pi(filename:str) -> np.array:\n",
    "    with open(filename) as f:\n",
    "        lines = f.readlines()\n",
    "    feats = []\n",
    "\n",
    "    for line in lines[1: int(lines[0])+1]:\n",
    "        feats.append( int(int(line.split(' ')[-1].strip())))\n",
    "    \n",
    "    return np.array(feats)"
   ]
  },
  {
   "cell_type": "code",
   "execution_count": 32,
   "metadata": {},
   "outputs": [],
   "source": [
    "def normalize_data(data:np.array) -> np.array:\n",
    "    return data / np.abs(data).max()"
   ]
  },
  {
   "cell_type": "code",
   "execution_count": null,
   "metadata": {},
   "outputs": [],
   "source": []
  },
  {
   "cell_type": "code",
   "execution_count": 55,
   "metadata": {},
   "outputs": [
    {
     "name": "stdout",
     "output_type": "stream",
     "text": [
      "['darkblue' 'red' 'darkblue' 'darkblue' 'darkblue' 'darkblue' 'darkblue'\n",
      " 'darkblue' 'darkblue' 'red' 'darkblue' 'darkblue' 'darkblue' 'darkblue'\n",
      " 'darkblue' 'darkblue' 'darkblue' 'darkblue' 'darkblue' 'darkblue' 'red'\n",
      " 'darkblue' 'darkblue' 'red' 'darkblue' 'darkblue' 'darkblue' 'darkblue'\n",
      " 'darkblue' 'darkblue']\n"
     ]
    }
   ],
   "source": [
    "instance = 'vn_30'\n",
    "filename = f'result/{instance}/pi/'\n",
    "\n",
    "pi = read_pi(filename=filename + '0.txt')\n",
    "norm_pi = normalize_data(pi)\n",
    "#print(norm_pi)\n",
    "norm_pi = normalize_data(pi)\n",
    "color = np.array([ 'darkblue' for i in range(norm_pi.size)])\n",
    "color[np.argwhere(norm_pi < 0)] = 'red'\n",
    "\n",
    "print(color)\n"
   ]
  },
  {
   "cell_type": "code",
   "execution_count": 14,
   "metadata": {},
   "outputs": [
    {
     "name": "stdout",
     "output_type": "stream",
     "text": [
      "[[[25 19 17 14 27 24 22 28  3  5 26  9 11 13 12 10 21 18  1 16]\n",
      "  [26 20 18 15 28 25 23 29  4  6 27 10 12 14 13 11 22 19  2 17]]]\n",
      "(1, 2, 20)\n"
     ]
    }
   ],
   "source": [
    "line = \"25 30874 500 19 108227 380 17 170177 342 14 192679 284 27 212061 543 24 217904 485 22 243059 445 28 248115 562 3 288879 66 5 290081 105 26 292309 522 9 383580 188 11 408771 231 13 456957 267 12 501432 251 10 541397 219 21 555265 435 18 570107 378 1 597818 32 16 614892 338\"\n",
    "items = line.strip().split(' ')\n",
    "\n",
    "batch_size = 10\n",
    "\n",
    "edge_index = []\n",
    "for batch in range(batch_size):\n",
    "    for item in range(len(items)//3):\n",
    "        edge_index.append( int( items[item * 3]) + batch)\n",
    "\n",
    "edge_index = np.array(edge_index).reshape(1, -1, 20)\n",
    "print(edge_index)\n",
    "print(edge_index.shape)\n"
   ]
  }
 ],
 "metadata": {
  "kernelspec": {
   "display_name": "Python 3.9.12 ('py39')",
   "language": "python",
   "name": "python3"
  },
  "language_info": {
   "codemirror_mode": {
    "name": "ipython",
    "version": 3
   },
   "file_extension": ".py",
   "mimetype": "text/x-python",
   "name": "python",
   "nbconvert_exporter": "python",
   "pygments_lexer": "ipython3",
   "version": "3.9.12"
  },
  "orig_nbformat": 4,
  "vscode": {
   "interpreter": {
    "hash": "ccc48cba39b1f4459234e21666e4737e80c10c62074b954fdcbe9cae915e458d"
   }
  }
 },
 "nbformat": 4,
 "nbformat_minor": 2
}
