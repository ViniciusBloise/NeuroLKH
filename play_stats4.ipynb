{
 "cells": [
  {
   "cell_type": "code",
   "execution_count": 84,
   "metadata": {},
   "outputs": [],
   "source": [
    "import numpy as np\n",
    "import pandas as pd\n",
    "import matplotlib.pyplot as plt\n",
    "import seaborn as sns\n",
    "\n",
    "import os\n",
    "import re"
   ]
  },
  {
   "cell_type": "code",
   "execution_count": 85,
   "metadata": {},
   "outputs": [],
   "source": [
    "model_cmp = './result/instances/stats/cmp-neuro-diffsizes-optimal.csv'\n",
    "cols = ['Problem', 'Dimension', 'Method', 'Successes',\n",
    "       'Best', 'Average', 'Trials_Min','Trials_Avg', 'Time', 'Optimal']\n",
    "df = pd.read_csv(model_cmp, header=None, names=cols)\n"
   ]
  },
  {
   "cell_type": "code",
   "execution_count": 86,
   "metadata": {},
   "outputs": [
    {
     "data": {
      "text/html": [
       "<div>\n",
       "<style scoped>\n",
       "    .dataframe tbody tr th:only-of-type {\n",
       "        vertical-align: middle;\n",
       "    }\n",
       "\n",
       "    .dataframe tbody tr th {\n",
       "        vertical-align: top;\n",
       "    }\n",
       "\n",
       "    .dataframe thead th {\n",
       "        text-align: right;\n",
       "    }\n",
       "</style>\n",
       "<table border=\"1\" class=\"dataframe\">\n",
       "  <thead>\n",
       "    <tr style=\"text-align: right;\">\n",
       "      <th></th>\n",
       "      <th>Dimension</th>\n",
       "      <th>Successes</th>\n",
       "      <th>Best</th>\n",
       "      <th>Average</th>\n",
       "      <th>Trials_Min</th>\n",
       "      <th>Trials_Avg</th>\n",
       "      <th>Time</th>\n",
       "      <th>Optimal</th>\n",
       "    </tr>\n",
       "  </thead>\n",
       "  <tbody>\n",
       "    <tr>\n",
       "      <th>count</th>\n",
       "      <td>80.000000</td>\n",
       "      <td>80.000000</td>\n",
       "      <td>80.000000</td>\n",
       "      <td>80.00000</td>\n",
       "      <td>80.000000</td>\n",
       "      <td>80.00000</td>\n",
       "      <td>80.000000</td>\n",
       "      <td>80.000000</td>\n",
       "    </tr>\n",
       "    <tr>\n",
       "      <th>mean</th>\n",
       "      <td>1288.050000</td>\n",
       "      <td>6.350000</td>\n",
       "      <td>125632.512500</td>\n",
       "      <td>125646.47750</td>\n",
       "      <td>320.550000</td>\n",
       "      <td>725.48625</td>\n",
       "      <td>251.650875</td>\n",
       "      <td>125629.900000</td>\n",
       "    </tr>\n",
       "    <tr>\n",
       "      <th>std</th>\n",
       "      <td>719.652481</td>\n",
       "      <td>3.735224</td>\n",
       "      <td>113371.319842</td>\n",
       "      <td>113378.14644</td>\n",
       "      <td>582.187405</td>\n",
       "      <td>664.93366</td>\n",
       "      <td>846.215955</td>\n",
       "      <td>113369.944659</td>\n",
       "    </tr>\n",
       "    <tr>\n",
       "      <th>min</th>\n",
       "      <td>150.000000</td>\n",
       "      <td>0.000000</td>\n",
       "      <td>2323.000000</td>\n",
       "      <td>2323.00000</td>\n",
       "      <td>1.000000</td>\n",
       "      <td>3.90000</td>\n",
       "      <td>0.080000</td>\n",
       "      <td>2323.000000</td>\n",
       "    </tr>\n",
       "    <tr>\n",
       "      <th>25%</th>\n",
       "      <td>895.250000</td>\n",
       "      <td>3.000000</td>\n",
       "      <td>32784.000000</td>\n",
       "      <td>32784.40000</td>\n",
       "      <td>2.000000</td>\n",
       "      <td>126.07500</td>\n",
       "      <td>3.877500</td>\n",
       "      <td>32784.000000</td>\n",
       "    </tr>\n",
       "    <tr>\n",
       "      <th>50%</th>\n",
       "      <td>1313.500000</td>\n",
       "      <td>8.000000</td>\n",
       "      <td>60727.000000</td>\n",
       "      <td>60753.15000</td>\n",
       "      <td>21.000000</td>\n",
       "      <td>511.65000</td>\n",
       "      <td>16.010000</td>\n",
       "      <td>60727.000000</td>\n",
       "    </tr>\n",
       "    <tr>\n",
       "      <th>75%</th>\n",
       "      <td>1765.250000</td>\n",
       "      <td>10.000000</td>\n",
       "      <td>242709.750000</td>\n",
       "      <td>242771.62500</td>\n",
       "      <td>253.750000</td>\n",
       "      <td>1379.67500</td>\n",
       "      <td>153.490000</td>\n",
       "      <td>242709.750000</td>\n",
       "    </tr>\n",
       "    <tr>\n",
       "      <th>max</th>\n",
       "      <td>3038.000000</td>\n",
       "      <td>10.000000</td>\n",
       "      <td>336556.000000</td>\n",
       "      <td>336628.00000</td>\n",
       "      <td>2103.000000</td>\n",
       "      <td>2103.00000</td>\n",
       "      <td>6207.560000</td>\n",
       "      <td>336556.000000</td>\n",
       "    </tr>\n",
       "  </tbody>\n",
       "</table>\n",
       "</div>"
      ],
      "text/plain": [
       "         Dimension  Successes           Best       Average   Trials_Min  \\\n",
       "count    80.000000  80.000000      80.000000      80.00000    80.000000   \n",
       "mean   1288.050000   6.350000  125632.512500  125646.47750   320.550000   \n",
       "std     719.652481   3.735224  113371.319842  113378.14644   582.187405   \n",
       "min     150.000000   0.000000    2323.000000    2323.00000     1.000000   \n",
       "25%     895.250000   3.000000   32784.000000   32784.40000     2.000000   \n",
       "50%    1313.500000   8.000000   60727.000000   60753.15000    21.000000   \n",
       "75%    1765.250000  10.000000  242709.750000  242771.62500   253.750000   \n",
       "max    3038.000000  10.000000  336556.000000  336628.00000  2103.000000   \n",
       "\n",
       "       Trials_Avg         Time        Optimal  \n",
       "count    80.00000    80.000000      80.000000  \n",
       "mean    725.48625   251.650875  125629.900000  \n",
       "std     664.93366   846.215955  113369.944659  \n",
       "min       3.90000     0.080000    2323.000000  \n",
       "25%     126.07500     3.877500   32784.000000  \n",
       "50%     511.65000    16.010000   60727.000000  \n",
       "75%    1379.67500   153.490000  242709.750000  \n",
       "max    2103.00000  6207.560000  336556.000000  "
      ]
     },
     "execution_count": 86,
     "metadata": {},
     "output_type": "execute_result"
    }
   ],
   "source": [
    "df.describe()"
   ]
  },
  {
   "cell_type": "code",
   "execution_count": 87,
   "metadata": {},
   "outputs": [
    {
     "data": {
      "text/plain": [
       "Index(['Problem', 'Dimension', 'Method', 'Successes', 'Best', 'Average',\n",
       "       'Trials_Min', 'Trials_Avg', 'Time', 'Optimal'],\n",
       "      dtype='object')"
      ]
     },
     "execution_count": 87,
     "metadata": {},
     "output_type": "execute_result"
    }
   ],
   "source": [
    "df.columns\n"
   ]
  },
  {
   "cell_type": "code",
   "execution_count": 88,
   "metadata": {},
   "outputs": [],
   "source": [
    "df['diffBest'] = (df['Best'] - df['Optimal'])/df['Optimal'] * 1000\n",
    "df['cumGap'] = (df['Average'] - df['Optimal']) /df['Optimal'] * 1000"
   ]
  },
  {
   "cell_type": "code",
   "execution_count": 70,
   "metadata": {},
   "outputs": [
    {
     "data": {
      "text/html": [
       "<div>\n",
       "<style scoped>\n",
       "    .dataframe tbody tr th:only-of-type {\n",
       "        vertical-align: middle;\n",
       "    }\n",
       "\n",
       "    .dataframe tbody tr th {\n",
       "        vertical-align: top;\n",
       "    }\n",
       "\n",
       "    .dataframe thead th {\n",
       "        text-align: right;\n",
       "    }\n",
       "</style>\n",
       "<table border=\"1\" class=\"dataframe\">\n",
       "  <thead>\n",
       "    <tr style=\"text-align: right;\">\n",
       "      <th></th>\n",
       "      <th>Problem</th>\n",
       "      <th>Dimension</th>\n",
       "      <th>Method</th>\n",
       "      <th>Successes</th>\n",
       "      <th>Best</th>\n",
       "      <th>Average</th>\n",
       "      <th>Trials_Min</th>\n",
       "      <th>Trials_Avg</th>\n",
       "      <th>Time</th>\n",
       "      <th>Optimal</th>\n",
       "      <th>diffBest</th>\n",
       "      <th>cumGap</th>\n",
       "    </tr>\n",
       "  </thead>\n",
       "  <tbody>\n",
       "    <tr>\n",
       "      <th>0</th>\n",
       "      <td>kroB150</td>\n",
       "      <td>150</td>\n",
       "      <td>LKH</td>\n",
       "      <td>2</td>\n",
       "      <td>26130</td>\n",
       "      <td>26131.6</td>\n",
       "      <td>23</td>\n",
       "      <td>128.4</td>\n",
       "      <td>0.34</td>\n",
       "      <td>26130</td>\n",
       "      <td>0.0</td>\n",
       "      <td>0.061232</td>\n",
       "    </tr>\n",
       "    <tr>\n",
       "      <th>1</th>\n",
       "      <td>kroB150</td>\n",
       "      <td>150</td>\n",
       "      <td>NeuroLKH</td>\n",
       "      <td>10</td>\n",
       "      <td>26130</td>\n",
       "      <td>26130.0</td>\n",
       "      <td>1</td>\n",
       "      <td>9.8</td>\n",
       "      <td>0.08</td>\n",
       "      <td>26130</td>\n",
       "      <td>0.0</td>\n",
       "      <td>0.000000</td>\n",
       "    </tr>\n",
       "    <tr>\n",
       "      <th>2</th>\n",
       "      <td>kroB150</td>\n",
       "      <td>150</td>\n",
       "      <td>NeuroLKH/m</td>\n",
       "      <td>10</td>\n",
       "      <td>26130</td>\n",
       "      <td>26130.0</td>\n",
       "      <td>1</td>\n",
       "      <td>22.1</td>\n",
       "      <td>0.13</td>\n",
       "      <td>26130</td>\n",
       "      <td>0.0</td>\n",
       "      <td>0.000000</td>\n",
       "    </tr>\n",
       "    <tr>\n",
       "      <th>3</th>\n",
       "      <td>kroB150</td>\n",
       "      <td>150</td>\n",
       "      <td>VSR-LKH</td>\n",
       "      <td>10</td>\n",
       "      <td>26130</td>\n",
       "      <td>26130.0</td>\n",
       "      <td>1</td>\n",
       "      <td>17.4</td>\n",
       "      <td>0.25</td>\n",
       "      <td>26130</td>\n",
       "      <td>0.0</td>\n",
       "      <td>0.000000</td>\n",
       "    </tr>\n",
       "    <tr>\n",
       "      <th>4</th>\n",
       "      <td>rat195</td>\n",
       "      <td>195</td>\n",
       "      <td>LKH</td>\n",
       "      <td>9</td>\n",
       "      <td>2323</td>\n",
       "      <td>2323.5</td>\n",
       "      <td>1</td>\n",
       "      <td>55.0</td>\n",
       "      <td>0.22</td>\n",
       "      <td>2323</td>\n",
       "      <td>0.0</td>\n",
       "      <td>0.215239</td>\n",
       "    </tr>\n",
       "  </tbody>\n",
       "</table>\n",
       "</div>"
      ],
      "text/plain": [
       "   Problem  Dimension      Method  Successes   Best  Average  Trials_Min  \\\n",
       "0  kroB150        150         LKH          2  26130  26131.6          23   \n",
       "1  kroB150        150    NeuroLKH         10  26130  26130.0           1   \n",
       "2  kroB150        150  NeuroLKH/m         10  26130  26130.0           1   \n",
       "3  kroB150        150     VSR-LKH         10  26130  26130.0           1   \n",
       "4   rat195        195         LKH          9   2323   2323.5           1   \n",
       "\n",
       "   Trials_Avg  Time  Optimal  diffBest    cumGap  \n",
       "0       128.4  0.34    26130       0.0  0.061232  \n",
       "1         9.8  0.08    26130       0.0  0.000000  \n",
       "2        22.1  0.13    26130       0.0  0.000000  \n",
       "3        17.4  0.25    26130       0.0  0.000000  \n",
       "4        55.0  0.22     2323       0.0  0.215239  "
      ]
     },
     "execution_count": 70,
     "metadata": {},
     "output_type": "execute_result"
    }
   ],
   "source": [
    "df.head()"
   ]
  },
  {
   "cell_type": "code",
   "execution_count": 99,
   "metadata": {},
   "outputs": [
    {
     "data": {
      "text/plain": [
       "Text(0, 0.5, 'Cumulative Gap')"
      ]
     },
     "execution_count": 99,
     "metadata": {},
     "output_type": "execute_result"
    },
    {
     "data": {
      "image/png": "[encoded data removed]",
      "text/plain": [
       "<Figure size 432x288 with 1 Axes>"
      ]
     },
     "metadata": {
      "needs_background": "light"
     },
     "output_type": "display_data"
    }
   ],
   "source": [
    "\n",
    "trials = df.sort_values(by=['Dimension','Method']) #.query(\"`Trials/TimeLimit`=='timelimit' and `Dimension`==200\")\n",
    "plt.xticks(rotation=90)\n",
    "\n",
    "#g_res = sns.lineplot(data=trials, x='Problem', y='cumGap', hue='Method', markers=True)\n",
    "sns.barplot(data=trials, x='Problem',  y='cumGap', hue='Method', ci=None)\n",
    "plt.ylabel('Cumulative Gap')"
   ]
  },
  {
   "cell_type": "code",
   "execution_count": 84,
   "metadata": {},
   "outputs": [
    {
     "data": {
      "image/png": "[encoded data removed]",
      "text/plain": [
       "<Figure size 432x288 with 1 Axes>"
      ]
     },
     "metadata": {
      "needs_background": "light"
     },
     "output_type": "display_data"
    }
   ],
   "source": [
    "trials = df.query(\"`Dimension`<1400\").sort_values(by=['Dimension','Method'])\n",
    "plt.xticks(rotation=90)\n",
    "plt.ylabel('Time (s)')\n",
    "g_res = sns.lineplot(data=trials, x='Problem', y='Time', hue='Method' )"
   ]
  },
  {
   "cell_type": "code",
   "execution_count": 83,
   "metadata": {},
   "outputs": [
    {
     "data": {
      "image/png": "[encoded data removed]",
      "text/plain": [
       "<Figure size 432x288 with 1 Axes>"
      ]
     },
     "metadata": {
      "needs_background": "light"
     },
     "output_type": "display_data"
    }
   ],
   "source": [
    "trials = df.query(\"`Dimension`>=1400\").sort_values(by=['Dimension','Method'])\n",
    "plt.xticks(rotation=90)\n",
    "plt.ylabel('Time (s)')\n",
    "g_res = sns.lineplot(data=trials, x='Problem', y='Time', hue='Method' )"
   ]
  },
  {
   "cell_type": "code",
   "execution_count": 82,
   "metadata": {},
   "outputs": [
    {
     "data": {
      "text/plain": [
       "<pandas.core.groupby.generic.DataFrameGroupBy object at 0x1443b7100>"
      ]
     },
     "execution_count": 82,
     "metadata": {},
     "output_type": "execute_result"
    }
   ],
   "source": [
    "grp_table."
   ]
  },
  {
   "cell_type": "code",
   "execution_count": 109,
   "metadata": {},
   "outputs": [
    {
     "name": "stdout",
     "output_type": "stream",
     "text": [
      "\\begin{center}\\begin{tabular}{ c c c c c c c c c }\n",
      "\\hline\n",
      "\\textbf{Problem} & \\textbf{Dimension} & \\textbf{Optimal} & Method & Best2 & Average & Success & Time & Trials_Avg \\\\\n",
      "\\hline\n",
      "\\multirow{4}{*}{kroB150} & \\multirow{4}{*}{150} & \\multirow{4}{*}{26130} &\n",
      "LKH & Opt. & 26131.6 & 2/10 & 0.34 & 128.4\\\\\n",
      "& & & NeuroLKH & Opt. & 26130.0 & 10/10 & 0.08 & 9.8\\\\\n",
      "& & & NeuroLKH/m & Opt. & 26130.0 & 10/10 & 0.13 & 22.1\\\\\n",
      "& & & VSR-LKH & Opt. & 26130.0 & 10/10 & 0.25 & 17.4\\\\\n",
      "\n",
      "\\hline\n",
      "\\multirow{4}{*}{rat195} & \\multirow{4}{*}{195} & \\multirow{4}{*}{2323} &\n",
      "LKH & Opt. & 2323.5 & 9/10 & 0.22 & 55.0\\\\\n",
      "& & & NeuroLKH & Opt. & 2323.0 & 10/10 & 0.11 & 8.4\\\\\n",
      "& & & NeuroLKH/m & Opt. & 2323.0 & 10/10 & 0.1 & 3.9\\\\\n",
      "& & & VSR-LKH & Opt. & 2323.0 & 10/10 & 0.43 & 24.1\\\\\n",
      "\n",
      "\\hline\n",
      "\\multirow{4}{*}{pr299} & \\multirow{4}{*}{299} & \\multirow{4}{*}{48191} &\n",
      "LKH & Opt. & 48194.3 & 9/10 & 0.5 & 51.7\\\\\n",
      "& & & NeuroLKH & Opt. & 48191.0 & 10/10 & 0.26 & 10.1\\\\\n",
      "& & & NeuroLKH/m & Opt. & 48191.0 & 10/10 & 0.36 & 13.2\\\\\n",
      "& & & VSR-LKH & Opt. & 48191.0 & 10/10 & 0.25 & 3.9\\\\\n",
      "\n",
      "\\hline\n",
      "\\multirow{4}{*}{d493} & \\multirow{4}{*}{493} & \\multirow{4}{*}{35002} &\n",
      "LKH & Opt. & 35002.8 & 6/10 & 4.93 & 219.6\\\\\n",
      "& & & NeuroLKH & Opt. & 35032.2 & 6/10 & 10.01 & 320.5\\\\\n",
      "& & & NeuroLKH/m & Opt. & 35002.0 & 10/10 & 1.08 & 27.5\\\\\n",
      "& & & VSR-LKH & Opt. & 35002.0 & 10/10 & 0.72 & 12.9\\\\\n",
      "\n",
      "\\hline\n",
      "\\multirow{4}{*}{rat575} & \\multirow{4}{*}{575} & \\multirow{4}{*}{6773} &\n",
      "LKH & Opt. & 6773.8 & 2/10 & 3.39 & 526.9\\\\\n",
      "& & & NeuroLKH & Opt. & 6773.1 & 9/10 & 2.62 & 179.0\\\\\n",
      "& & & NeuroLKH/m & Opt. & 6773.3 & 7/10 & 4.29 & 345.3\\\\\n",
      "& & & VSR-LKH & Opt. & 6773.3 & 7/10 & 4.04 & 251.0\\\\\n",
      "\n",
      "\\hline\n",
      "\\multirow{4}{*}{pr1002} & \\multirow{4}{*}{1002} & \\multirow{4}{*}{259045} &\n",
      "LKH & Opt. & 259045.6 & 8/10 & 4.05 & 549.0\\\\\n",
      "& & & NeuroLKH & Opt. & 259045.0 & 10/10 & 8.39 & 330.6\\\\\n",
      "& & & NeuroLKH/m & Opt. & 259045.0 & 10/10 & 0.96 & 34.0\\\\\n",
      "& & & VSR-LKH & Opt. & 259045.0 & 10/10 & 0.7 & 21.9\\\\\n",
      "\n",
      "\\hline\n",
      "\\multirow{4}{*}{u1060} & \\multirow{4}{*}{1060} & \\multirow{4}{*}{224094} &\n",
      "LKH & Opt. & 224107.5 & 5/10 & 116.46 & 663.3\\\\\n",
      "& & & NeuroLKH & Opt. & 224094.0 & 10/10 & 43.48 & 206.9\\\\\n",
      "& & & NeuroLKH/m & Opt. & 224094.0 & 10/10 & 10.85 & 75.4\\\\\n",
      "& & & VSR-LKH & Opt. & 224094.0 & 10/10 & 5.46 & 23.3\\\\\n",
      "\n",
      "\\hline\n",
      "\\multirow{4}{*}{vm1084} & \\multirow{4}{*}{1084} & \\multirow{4}{*}{239297} &\n",
      "LKH & Opt. & 239372.6 & 3/10 & 41.16 & 824.1\\\\\n",
      "& & & NeuroLKH & Opt. & 239379.5 & 1/10 & 32.41 & 1028.9\\\\\n",
      "& & & NeuroLKH/m & Opt. & 239315.1 & 7/10 & 27.75 & 439.7\\\\\n",
      "& & & VSR-LKH & Opt. & 239307.4 & 8/10 & 50.17 & 433.6\\\\\n",
      "\n",
      "\\hline\n",
      "\\multirow{4}{*}{pcb1173} & \\multirow{4}{*}{1173} & \\multirow{4}{*}{56892} &\n",
      "LKH & Opt. & 56895.0 & 4/10 & 5.02 & 844.0\\\\\n",
      "& & & NeuroLKH & Opt. & 56892.5 & 9/10 & 6.77 & 410.4\\\\\n",
      "& & & NeuroLKH/m & Opt. & 56893.0 & 8/10 & 7.75 & 378.2\\\\\n",
      "& & & VSR-LKH & Opt. & 56892.0 & 10/10 & 3.1 & 198.3\\\\\n",
      "\n",
      "\\hline\n",
      "\\multirow{4}{*}{rl1304} & \\multirow{4}{*}{1304} & \\multirow{4}{*}{252948} &\n",
      "LKH & Opt. & 253156.4 & 3/10 & 16.79 & 1170.0\\\\\n",
      "& & & NeuroLKH & Opt. & 252948.0 & 10/10 & 5.04 & 236.6\\\\\n",
      "& & & NeuroLKH/m & Opt. & 252958.2 & 8/10 & 13.43 & 600.6\\\\\n",
      "& & & VSR-LKH & Opt. & 252948.0 & 10/10 & 5.14 & 119.1\\\\\n",
      "\n",
      "\\hline\n",
      "\\multirow{4}{*}{rl1323} & \\multirow{4}{*}{1323} & \\multirow{4}{*}{270199} &\n",
      "LKH & Opt. & 270219.6 & 6/10 & 12.9 & 718.8\\\\\n",
      "& & & NeuroLKH & Opt. & 270247.9 & 7/10 & 17.05 & 742.2\\\\\n",
      "& & & NeuroLKH/m & Opt. & 270204.4 & 8/10 & 16.96 & 538.5\\\\\n",
      "& & & VSR-LKH & Opt. & 270199.0 & 10/10 & 3.36 & 79.0\\\\\n",
      "\n",
      "\\hline\n",
      "\\multirow{4}{*}{nrw1379} & \\multirow{4}{*}{1379} & \\multirow{4}{*}{56638} &\n",
      "LKH & Opt. & 56640.0 & 6/10 & 11.73 & 759.3\\\\\n",
      "& & & NeuroLKH & Opt. & 56638.5 & 9/10 & 16.16 & 372.4\\\\\n",
      "& & & NeuroLKH/m & Opt. & 56638.0 & 10/10 & 11.68 & 260.8\\\\\n",
      "& & & VSR-LKH & Opt. & 56638.0 & 10/10 & 11.96 & 211.9\\\\\n",
      "\n",
      "\\hline\n",
      "\\end{tabular}\\end{center}\n"
     ]
    }
   ],
   "source": [
    "grp_by = ['Problem','Dimension','Optimal']\n",
    "#df.query(\"`Dimension`<1400\")\n",
    "grp_table = df.query(\"`Dimension`<1400\").sort_values(by=['Dimension','Method']).groupby(by=grp_by)\n",
    "\n",
    "grp_table.apply(lambda x: x.sort_values(['Dimension'], ascending=True))\n",
    "#print(res)\n",
    "#break\n",
    "\n",
    "df['Success'] = df['Successes'].astype(str) + '/10'\n",
    "df['Best2'] = df['Best']-df['Optimal'] #np.where(np.abs(df['Best']-df['Optimal']) < 1e-5, 'Opt.' , df['Best'])\n",
    "lst = ['Method', 'Best2', 'Average', 'Success', 'Time', 'Trials_Avg']\n",
    "\n",
    "print(r'\\begin{center}\\begin{tabular}{ '+ 'c ' * (len(lst) + 3) +'}')\n",
    "print(r'\\hline')\n",
    "print(' & '.join([r'\\textbf{' + i+ '}' for i in grp_by] + [i for i in lst]) + r' \\\\')\n",
    "print(r'\\hline')\n",
    "\n",
    "#'\\\\\\\\\\n'.join(['& ' * row +  \n",
    "f_grp_cols = lambda col, row : '\\\\\\n'.join(['& ' * row + str(i) for i in col])\n",
    "\n",
    "sorted = [(by[1], by, df_t) for by, df_t in grp_table]\n",
    "sorted.sort()\n",
    "\n",
    "for _, method, df_t in sorted:\n",
    "    #method, df_t = item\n",
    "    df_lst = df_t.filter(lst)\n",
    "    n_rows = df_lst.shape[0]\n",
    "    #print('& ' * rows )\n",
    "    #print(df_t['Method'].values)\n",
    "    #print(df_lst)\n",
    "    print(' & '.join([r'\\multirow{'+str(n_rows)+r'}{*}{'+ str(method[idx]) +'}' for idx, i in enumerate(grp_by)]) + ' &')\n",
    "    print(('& ' * (n_rows-1)).join([ ' & '.join(str(r) for r in row.values) + '\\\\\\\\\\n' for i, row in  df_lst.iterrows()]))\n",
    "    print(r'\\hline')\n",
    "\n",
    "print(r'\\end{tabular}\\end{center}')"
   ]
  }
 ],
 "metadata": {
  "kernelspec": {
   "display_name": "Python 3.9.12 ('py39')",
   "language": "python",
   "name": "python3"
  },
  "language_info": {
   "codemirror_mode": {
    "name": "ipython",
    "version": 3
   },
   "file_extension": ".py",
   "mimetype": "text/x-python",
   "name": "python",
   "nbconvert_exporter": "python",
   "pygments_lexer": "ipython3",
   "version": "3.9.12"
  },
  "orig_nbformat": 4,
  "vscode": {
   "interpreter": {
    "hash": "ccc48cba39b1f4459234e21666e4737e80c10c62074b954fdcbe9cae915e458d"
   }
  }
 },
 "nbformat": 4,
 "nbformat_minor": 2
}
