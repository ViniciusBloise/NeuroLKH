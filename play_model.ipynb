{
 "cells": [
  {
   "cell_type": "code",
   "execution_count": 1,
   "id": "d720ebf5",
   "metadata": {},
   "outputs": [],
   "source": [
    "import pickle\n",
    "import numpy as np"
   ]
  },
  {
   "cell_type": "code",
   "execution_count": 2,
   "id": "21146eef",
   "metadata": {},
   "outputs": [],
   "source": [
    "ds_filename = './test/100.pkl'\n",
    "with open(ds_filename, \"rb\") as f:\n",
    "    ds = pickle.load(f)"
   ]
  },
  {
   "cell_type": "code",
   "execution_count": 3,
   "id": "dad56591",
   "metadata": {},
   "outputs": [
    {
     "name": "stdout",
     "output_type": "stream",
     "text": [
      "<class 'list'>\n",
      "1000\n"
     ]
    }
   ],
   "source": [
    "print(type(ds))\n",
    "print(len(ds))"
   ]
  },
  {
   "cell_type": "code",
   "execution_count": 20,
   "id": "734adc15",
   "metadata": {},
   "outputs": [
    {
     "name": "stdout",
     "output_type": "stream",
     "text": [
      "<class 'list'>\n",
      "100\n"
     ]
    }
   ],
   "source": [
    "print(type(ds[0]))\n",
    "print(len(ds[0]))"
   ]
  },
  {
   "cell_type": "code",
   "execution_count": 4,
   "id": "27f1aaf1",
   "metadata": {
    "scrolled": true
   },
   "outputs": [
    {
     "data": {
      "text/plain": [
       "['setup.sh',\n",
       " 'CVRP_train',\n",
       " 'CVRPTWdata_generate.py',\n",
       " 'CVRP_train.py',\n",
       " 'swig_test.py',\n",
       " 'CVRP_test.py',\n",
       " 'result',\n",
       " 'net',\n",
       " '.DS_Store',\n",
       " 'exper',\n",
       " 'test',\n",
       " 'Makefile',\n",
       " '_swig_test.py',\n",
       " 'finetune_node.py',\n",
       " 'play_model.ipynb',\n",
       " 'play_nn.ipynb',\n",
       " 'CVRPTW_test.py',\n",
       " 'concorde_tmpfiles',\n",
       " '__init__.py',\n",
       " 'utils',\n",
       " '__pycache__',\n",
       " 'test.py',\n",
       " 'main_gen.py',\n",
       " 'README.md',\n",
       " 'PDP_train.py',\n",
       " 'CVRP_val',\n",
       " 'PDPdata_generate.py',\n",
       " '.gitignore',\n",
       " 'tsplib_test.py',\n",
       " 'CVRPTW_train.py',\n",
       " 'play_stats.ipynb',\n",
       " 'train.py',\n",
       " 'PDP_test.py',\n",
       " 'data_generate.py',\n",
       " 'train',\n",
       " 'intf',\n",
       " '.ipynb_checkpoints',\n",
       " 'CVRPdata_generate.py',\n",
       " '.git',\n",
       " '.vscode',\n",
       " 'main.py',\n",
       " 'LKH',\n",
       " 'data',\n",
       " 'play_feat.ipynb',\n",
       " 'tmp',\n",
       " 'SRC_swig',\n",
       " 'pretrained',\n",
       " 'tsplib_data',\n",
       " 'val',\n",
       " '.idea',\n",
       " 'SRC']"
      ]
     },
     "execution_count": 4,
     "metadata": {},
     "output_type": "execute_result"
    }
   ],
   "source": [
    "import os\n",
    "os.listdir('.')"
   ]
  },
  {
   "cell_type": "code",
   "execution_count": null,
   "id": "541ac2d2",
   "metadata": {},
   "outputs": [],
   "source": []
  }
 ],
 "metadata": {
  "kernelspec": {
   "display_name": "Python 3.9.12 ('py39')",
   "language": "python",
   "name": "python3"
  },
  "language_info": {
   "codemirror_mode": {
    "name": "ipython",
    "version": 3
   },
   "file_extension": ".py",
   "mimetype": "text/x-python",
   "name": "python",
   "nbconvert_exporter": "python",
   "pygments_lexer": "ipython3",
   "version": "3.9.12"
  },
  "vscode": {
   "interpreter": {
    "hash": "ccc48cba39b1f4459234e21666e4737e80c10c62074b954fdcbe9cae915e458d"
   }
  }
 },
 "nbformat": 4,
 "nbformat_minor": 5
}
