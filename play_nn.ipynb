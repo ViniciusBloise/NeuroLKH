{
 "cells": [
  {
   "cell_type": "code",
   "execution_count": 1,
   "id": "07601954",
   "metadata": {},
   "outputs": [],
   "source": [
    "import numpy as np\n",
    "import torch\n",
    "import torch.nn as nn"
   ]
  },
  {
   "cell_type": "code",
   "execution_count": 2,
   "id": "9b8307a2",
   "metadata": {},
   "outputs": [],
   "source": [
    "a = np.array([[1,2,3,4],[4,5,6,7],[11,21,31,41],[41,51,61,71]])"
   ]
  },
  {
   "cell_type": "code",
   "execution_count": 3,
   "id": "2eba6ee3",
   "metadata": {},
   "outputs": [
    {
     "data": {
      "text/plain": [
       "(array([[ 1,  2,  3,  4],\n",
       "        [ 4,  5,  6,  7],\n",
       "        [11, 21, 31, 41],\n",
       "        [41, 51, 61, 71]]),\n",
       " (4, 4))"
      ]
     },
     "execution_count": 3,
     "metadata": {},
     "output_type": "execute_result"
    }
   ],
   "source": [
    "a, a.shape"
   ]
  },
  {
   "cell_type": "code",
   "execution_count": 4,
   "id": "9cd29788",
   "metadata": {},
   "outputs": [],
   "source": [
    "hidden_dim = 128; n_nodes = 100; batch_size = 120; node_dim = 2 #x,y"
   ]
  },
  {
   "cell_type": "code",
   "execution_count": 5,
   "id": "7f861811",
   "metadata": {},
   "outputs": [],
   "source": [
    "x = torch.randn(batch_size, n_nodes, hidden_dim) #batch_size x n_nodes x hidden_dim\n",
    "batch_norm = nn.BatchNorm1d(hidden_dim, track_running_stats=False)"
   ]
  },
  {
   "cell_type": "code",
   "execution_count": 6,
   "id": "a752ba13",
   "metadata": {},
   "outputs": [],
   "source": [
    "nodes_embedding = nn.Linear(node_dim, hidden_dim, bias=False)\n",
    "x_nodes = np.random.uniform(size=(n_nodes, node_dim))"
   ]
  },
  {
   "cell_type": "code",
   "execution_count": 7,
   "id": "b1c8d988",
   "metadata": {},
   "outputs": [
    {
     "name": "stdout",
     "output_type": "stream",
     "text": [
      "[4.72323516e-01 1.47781226e-01 7.94014919e-01 3.11967295e-02\n",
      " 4.01667346e-01 4.05832498e-01 6.81858558e-01 8.06029809e-01\n",
      " 3.16073148e-01 2.88266088e-01 4.53129757e-01 9.75939655e-01\n",
      " 3.40397272e-01 2.26660216e-01 3.31258519e-01 7.51849283e-01\n",
      " 4.32027431e-01 7.43248564e-01 8.93994704e-01 5.68325293e-01\n",
      " 6.51312997e-01 3.89235766e-01 4.15828165e-02 8.49990448e-01\n",
      " 1.54804230e-01 5.10469039e-02 4.66901213e-01 1.21798566e-02\n",
      " 9.64079291e-01 5.62455685e-02 3.10268384e-02 9.93077677e-01\n",
      " 1.65250337e-01 8.85753582e-01 7.60276252e-01 9.04592470e-01\n",
      " 6.36018324e-01 9.46513747e-01 1.19006307e-01 1.01136965e-01\n",
      " 5.81293881e-02 3.33429210e-01 4.97162401e-01 2.74012374e-01\n",
      " 7.58822377e-01 6.74189784e-01 4.58152738e-01 1.17095444e-01\n",
      " 2.92998064e-01 4.96797207e-01 8.15604645e-01 9.00575254e-01\n",
      " 9.02960952e-01 1.34586131e-01 4.27273388e-01 9.82020258e-01\n",
      " 1.89540852e-01 8.41107833e-01 3.30954482e-03 6.13323050e-01\n",
      " 7.79458729e-01 6.44976266e-01 5.05104551e-01 6.46047920e-01\n",
      " 2.34865159e-01 9.91318746e-01 1.88301930e-01 1.80403726e-02\n",
      " 8.70617553e-02 2.11554808e-01 8.02179972e-01 9.21185793e-01\n",
      " 7.29464809e-01 3.55879017e-01 8.56801702e-01 2.79119364e-01\n",
      " 3.02720581e-01 7.99687073e-04 9.25757874e-01 7.93468025e-01\n",
      " 2.45703540e-02 8.29493444e-02 3.07551288e-01 3.75140353e-01\n",
      " 1.28936561e-01 6.73916163e-01 7.23603656e-01 8.35682869e-01\n",
      " 3.72488837e-01 4.86084898e-01 9.41870492e-01 6.76751403e-01\n",
      " 5.28834662e-03 1.69928033e-01 1.55605334e-02 8.42292250e-01\n",
      " 7.73708637e-01 2.47211587e-01 2.98088445e-01 8.97078444e-01]\n"
     ]
    }
   ],
   "source": [
    "#print(batch_norm(x))\n",
    "#print(x.size())\n",
    "print(x_nodes[:,1])"
   ]
  },
  {
   "cell_type": "code",
   "execution_count": 8,
   "id": "ffee07bc",
   "metadata": {},
   "outputs": [
    {
     "data": {
      "image/png": "[encoded data removed]",
      "text/plain": [
       "<Figure size 432x288 with 1 Axes>"
      ]
     },
     "metadata": {
      "needs_background": "light"
     },
     "output_type": "display_data"
    }
   ],
   "source": [
    "import exper.plotter as _plt\n",
    "\n",
    "_plt.Plotter.scatter_plot(x_nodes)"
   ]
  },
  {
   "cell_type": "code",
   "execution_count": 9,
   "id": "4eeff34f",
   "metadata": {},
   "outputs": [],
   "source": [
    "x_trans = x.transpose(1,2).contiguous()\n",
    "x_trans_bn = batch_norm(x_trans)\n",
    "x_bn = x_trans_bn.transpose(1,2).contiguous()"
   ]
  },
  {
   "cell_type": "code",
   "execution_count": 10,
   "id": "7a0595fc",
   "metadata": {},
   "outputs": [
    {
     "data": {
      "image/png": "[encoded data removed]",
      "text/plain": [
       "<Figure size 432x288 with 1 Axes>"
      ]
     },
     "metadata": {
      "needs_background": "light"
     },
     "output_type": "display_data"
    }
   ],
   "source": [
    "import matplotlib.pyplot as plt\n",
    "import seaborn as sns\n",
    "\n",
    "x, y = x_nodes.T\n",
    "#sns.scatterplot(x=x,y=y)\n",
    "#sns.scatterplot(data=x_nodes, x=0, y=1)\n",
    "plt.scatter(x, y, s=10, c='g')\n",
    "plt.show()"
   ]
  },
  {
   "cell_type": "code",
   "execution_count": 11,
   "id": "aa629736",
   "metadata": {},
   "outputs": [
    {
     "name": "stdout",
     "output_type": "stream",
     "text": [
      "torch.Size([120, 100, 128])\n"
     ]
    }
   ],
   "source": [
    "print(x_bn.size())"
   ]
  },
  {
   "cell_type": "code",
   "execution_count": 12,
   "id": "f03e79a1",
   "metadata": {},
   "outputs": [
    {
     "data": {
      "text/plain": [
       "['/Users/vbloise/Desktop/MasterInAI/MT-Umberto/Project/NeuroLKH',\n",
       " '/Users/vbloise/miniconda3/envs/py39/lib/python39.zip',\n",
       " '/Users/vbloise/miniconda3/envs/py39/lib/python3.9',\n",
       " '/Users/vbloise/miniconda3/envs/py39/lib/python3.9/lib-dynload',\n",
       " '',\n",
       " '/Users/vbloise/miniconda3/envs/py39/lib/python3.9/site-packages',\n",
       " '/Users/vbloise/Desktop/MasterInAI/MT-Umberto/Project/ML-Constructive/pyconcorde']"
      ]
     },
     "execution_count": 12,
     "metadata": {},
     "output_type": "execute_result"
    }
   ],
   "source": [
    "import sys\n",
    "sys.path"
   ]
  },
  {
   "cell_type": "code",
   "execution_count": 13,
   "id": "d710a089",
   "metadata": {},
   "outputs": [],
   "source": [
    "#sys.path.append('/Users/vbloise/Desktop/MasterInAI/MT-Umberto/Project/NeuroLKH/')"
   ]
  },
  {
   "cell_type": "code",
   "execution_count": 4,
   "id": "0375fc56",
   "metadata": {},
   "outputs": [],
   "source": [
    "import intf.lkh_helper as lkh_h\n",
    "\n",
    "node_dim = 2\n",
    "for seq in range(2):\n",
    "    prob_size = 1000\n",
    "    inst_name = f'{prob_size}_{seq}'\n",
    "    inst_filename = f'result/{prob_size}/tsp/{inst_name}.tsp'\n",
    "\n",
    "    inst = np.random.uniform(size=(prob_size, node_dim))\n",
    "    #_ = lkh_h.solve_LKH(prob_size, inst, inst_name, rerun=True)\n",
    "    lkh_h.write_instance(inst, inst_name, inst_filename)"
   ]
  },
  {
   "cell_type": "code",
   "execution_count": 23,
   "id": "3e8c532e",
   "metadata": {},
   "outputs": [],
   "source": [
    "_ = lkh_h.solve_LKH(prob_size, x_nodes, inst_name, rerun=True)"
   ]
  },
  {
   "cell_type": "code",
   "execution_count": null,
   "id": "35cc6473",
   "metadata": {},
   "outputs": [],
   "source": []
  },
  {
   "cell_type": "code",
   "execution_count": null,
   "id": "e44d218f",
   "metadata": {},
   "outputs": [],
   "source": []
  },
  {
   "cell_type": "code",
   "execution_count": null,
   "id": "74329f7b",
   "metadata": {},
   "outputs": [],
   "source": [
    "print(t.__file__)"
   ]
  },
  {
   "cell_type": "code",
   "execution_count": null,
   "id": "51b21782",
   "metadata": {},
   "outputs": [],
   "source": [
    "!export PYTHONPATH=../\n",
    "!echo $PYTHONPATH\n",
    "!env | grep PY"
   ]
  }
 ],
 "metadata": {
  "kernelspec": {
   "display_name": "Python 3",
   "language": "python",
   "name": "python3"
  },
  "language_info": {
   "codemirror_mode": {
    "name": "ipython",
    "version": 3
   },
   "file_extension": ".py",
   "mimetype": "text/x-python",
   "name": "python",
   "nbconvert_exporter": "python",
   "pygments_lexer": "ipython3",
   "version": "3.9.12"
  },
  "vscode": {
   "interpreter": {
    "hash": "ccc48cba39b1f4459234e21666e4737e80c10c62074b954fdcbe9cae915e458d"
   }
  }
 },
 "nbformat": 4,
 "nbformat_minor": 5
}
