{
 "cells": [
  {
   "cell_type": "code",
   "execution_count": 1,
   "id": "07601954",
   "metadata": {},
   "outputs": [],
   "source": [
    "import numpy as np\n",
    "import torch\n",
    "import torch.nn as nn"
   ]
  },
  {
   "cell_type": "code",
   "execution_count": 2,
   "id": "9b8307a2",
   "metadata": {},
   "outputs": [],
   "source": [
    "a = np.array([[1,2,3,4],[4,5,6,7],[11,21,31,41],[41,51,61,71]])"
   ]
  },
  {
   "cell_type": "code",
   "execution_count": 3,
   "id": "2eba6ee3",
   "metadata": {},
   "outputs": [
    {
     "data": {
      "text/plain": [
       "(array([[ 1,  2,  3,  4],\n",
       "        [ 4,  5,  6,  7],\n",
       "        [11, 21, 31, 41],\n",
       "        [41, 51, 61, 71]]),\n",
       " (4, 4))"
      ]
     },
     "execution_count": 3,
     "metadata": {},
     "output_type": "execute_result"
    }
   ],
   "source": [
    "a, a.shape"
   ]
  },
  {
   "cell_type": "code",
   "execution_count": 4,
   "id": "9cd29788",
   "metadata": {},
   "outputs": [],
   "source": [
    "hidden_dim = 128; n_nodes = 100; batch_size = 120; node_dim = 2 #x,y"
   ]
  },
  {
   "cell_type": "code",
   "execution_count": 5,
   "id": "7f861811",
   "metadata": {},
   "outputs": [],
   "source": [
    "x = torch.randn(batch_size, n_nodes, hidden_dim) #batch_size x n_nodes x hidden_dim\n",
    "batch_norm = nn.BatchNorm1d(hidden_dim, track_running_stats=False)"
   ]
  },
  {
   "cell_type": "code",
   "execution_count": 6,
   "id": "a752ba13",
   "metadata": {},
   "outputs": [],
   "source": [
    "nodes_embedding = nn.Linear(node_dim, hidden_dim, bias=False)\n",
    "x_nodes = np.random.uniform(size=(n_nodes, node_dim))"
   ]
  },
  {
   "cell_type": "code",
   "execution_count": 7,
   "id": "b1c8d988",
   "metadata": {},
   "outputs": [
    {
     "name": "stdout",
     "output_type": "stream",
     "text": [
      "[0.98178571 0.91878626 0.06736479 0.41950787 0.21969649 0.23116364\n",
      " 0.73560562 0.25164102 0.73642328 0.8725768  0.30761775 0.63794605\n",
      " 0.32828521 0.35377781 0.178834   0.78000105 0.87215008 0.38909277\n",
      " 0.10879652 0.68991912 0.92005421 0.59045583 0.2641766  0.58346376\n",
      " 0.40184007 0.89699311 0.8875865  0.29744135 0.11341188 0.17917494\n",
      " 0.38204163 0.04817432 0.5056672  0.84888869 0.23331399 0.08178681\n",
      " 0.0781925  0.62864228 0.73359424 0.43073592 0.56599933 0.83509084\n",
      " 0.20385737 0.95141893 0.44274302 0.05589769 0.3036909  0.85970751\n",
      " 0.59837701 0.73538518 0.80180559 0.270442   0.84947515 0.03560012\n",
      " 0.71980305 0.86035298 0.54934538 0.68670508 0.72004339 0.93008743\n",
      " 0.66842957 0.6244761  0.47621372 0.2643116  0.77800287 0.31788833\n",
      " 0.7555175  0.44111894 0.71700858 0.9192251  0.48220752 0.65790534\n",
      " 0.43316553 0.84377145 0.01553378 0.55211217 0.829398   0.40111068\n",
      " 0.13935021 0.50648195 0.06296407 0.60251067 0.37458236 0.42564145\n",
      " 0.61399233 0.47261367 0.3346701  0.6199399  0.55214828 0.55969645\n",
      " 0.74397471 0.90560799 0.61058319 0.06776068 0.22860574 0.4879293\n",
      " 0.13585068 0.00857558 0.28342586 0.67826444]\n"
     ]
    }
   ],
   "source": [
    "#print(batch_norm(x))\n",
    "#print(x.size())\n",
    "print(x_nodes[:,1])"
   ]
  },
  {
   "cell_type": "code",
   "execution_count": 8,
   "id": "ffee07bc",
   "metadata": {},
   "outputs": [
    {
     "data": {
      "image/png": "[encoded data removed]",
      "text/plain": [
       "<Figure size 432x288 with 1 Axes>"
      ]
     },
     "metadata": {
      "needs_background": "light"
     },
     "output_type": "display_data"
    }
   ],
   "source": [
    "import plotter as _plt\n",
    "\n",
    "_plt.Plotter.scatter_plot(x_nodes)"
   ]
  },
  {
   "cell_type": "code",
   "execution_count": 9,
   "id": "4eeff34f",
   "metadata": {},
   "outputs": [],
   "source": [
    "x_trans = x.transpose(1,2).contiguous()\n",
    "x_trans_bn = batch_norm(x_trans)\n",
    "x_bn = x_trans_bn.transpose(1,2).contiguous()"
   ]
  },
  {
   "cell_type": "code",
   "execution_count": 10,
   "id": "7a0595fc",
   "metadata": {},
   "outputs": [
    {
     "data": {
      "image/png": "[encoded data removed]",
      "text/plain": [
       "<Figure size 432x288 with 1 Axes>"
      ]
     },
     "metadata": {
      "needs_background": "light"
     },
     "output_type": "display_data"
    }
   ],
   "source": [
    "import matplotlib.pyplot as plt\n",
    "import seaborn as sns\n",
    "\n",
    "x, y = x_nodes.T\n",
    "#sns.scatterplot(x=x,y=y)\n",
    "#sns.scatterplot(data=x_nodes, x=0, y=1)\n",
    "plt.scatter(x, y, s=10, c='g')\n",
    "plt.show()"
   ]
  },
  {
   "cell_type": "code",
   "execution_count": 11,
   "id": "aa629736",
   "metadata": {},
   "outputs": [
    {
     "name": "stdout",
     "output_type": "stream",
     "text": [
      "torch.Size([120, 100, 128])\n"
     ]
    }
   ],
   "source": [
    "print(x_bn.size())"
   ]
  },
  {
   "cell_type": "code",
   "execution_count": 12,
   "id": "f03e79a1",
   "metadata": {},
   "outputs": [
    {
     "data": {
      "text/plain": [
       "['/Users/vbloise/Desktop/MasterInAI/MT-Umberto/Project/NeuroLKH/exper',\n",
       " '/Users/vbloise/miniconda3/envs/py39/lib/python39.zip',\n",
       " '/Users/vbloise/miniconda3/envs/py39/lib/python3.9',\n",
       " '/Users/vbloise/miniconda3/envs/py39/lib/python3.9/lib-dynload',\n",
       " '',\n",
       " '/Users/vbloise/miniconda3/envs/py39/lib/python3.9/site-packages',\n",
       " '/Users/vbloise/Desktop/MasterInAI/MT-Umberto/Project/ML-Constructive/pyconcorde']"
      ]
     },
     "execution_count": 12,
     "metadata": {},
     "output_type": "execute_result"
    }
   ],
   "source": [
    "import sys\n",
    "sys.path"
   ]
  },
  {
   "cell_type": "code",
   "execution_count": 13,
   "id": "d710a089",
   "metadata": {},
   "outputs": [],
   "source": [
    "sys.path.append('/Users/vbloise/Desktop/MasterInAI/MT-Umberto/Project/NeuroLKH/')"
   ]
  },
  {
   "cell_type": "code",
   "execution_count": 14,
   "id": "0375fc56",
   "metadata": {},
   "outputs": [
    {
     "ename": "FileNotFoundError",
     "evalue": "[Errno 2] No such file or directory: './result/100/tsp/100_2.tsp'",
     "output_type": "error",
     "traceback": [
      "\u001b[0;31m---------------------------------------------------------------------------\u001b[0m",
      "\u001b[0;31mFileNotFoundError\u001b[0m                         Traceback (most recent call last)",
      "Input \u001b[0;32mIn [14]\u001b[0m, in \u001b[0;36m<cell line: 8>\u001b[0;34m()\u001b[0m\n\u001b[1;32m      5\u001b[0m inst_name \u001b[38;5;241m=\u001b[39m \u001b[38;5;124mf\u001b[39m\u001b[38;5;124m'\u001b[39m\u001b[38;5;132;01m{\u001b[39;00mprob_size\u001b[38;5;132;01m}\u001b[39;00m\u001b[38;5;124m_\u001b[39m\u001b[38;5;132;01m{\u001b[39;00mseq\u001b[38;5;132;01m}\u001b[39;00m\u001b[38;5;124m'\u001b[39m\n\u001b[1;32m      6\u001b[0m inst_filename \u001b[38;5;241m=\u001b[39m \u001b[38;5;124mf\u001b[39m\u001b[38;5;124m'\u001b[39m\u001b[38;5;124mresult/\u001b[39m\u001b[38;5;132;01m{\u001b[39;00mprob_size\u001b[38;5;132;01m}\u001b[39;00m\u001b[38;5;124m/tsp/\u001b[39m\u001b[38;5;132;01m{\u001b[39;00minst_name\u001b[38;5;132;01m}\u001b[39;00m\u001b[38;5;124m.tsp\u001b[39m\u001b[38;5;124m'\u001b[39m\n\u001b[0;32m----> 8\u001b[0m \u001b[43mlkh_h\u001b[49m\u001b[38;5;241;43m.\u001b[39;49m\u001b[43mwrite_instance\u001b[49m\u001b[43m(\u001b[49m\u001b[43mx_nodes\u001b[49m\u001b[43m,\u001b[49m\u001b[43m \u001b[49m\u001b[43minst_name\u001b[49m\u001b[43m,\u001b[49m\u001b[43m \u001b[49m\u001b[43minst_filename\u001b[49m\u001b[43m)\u001b[49m\n\u001b[1;32m      9\u001b[0m \u001b[38;5;66;03m#print(inst_filename, len(x))\u001b[39;00m\n\u001b[1;32m     10\u001b[0m lkh_h\u001b[38;5;241m.\u001b[39msolve_LKH(prob_size, x_nodes, inst_name)\n",
      "File \u001b[0;32m~/Desktop/MasterInAI/MT-Umberto/Project/NeuroLKH/intf/lkh_helper.py:18\u001b[0m, in \u001b[0;36mwrite_instance\u001b[0;34m(instance, instance_name, instance_filename)\u001b[0m\n\u001b[1;32m     17\u001b[0m \u001b[38;5;28;01mdef\u001b[39;00m \u001b[38;5;21mwrite_instance\u001b[39m(instance, instance_name, instance_filename):\n\u001b[0;32m---> 18\u001b[0m     \u001b[38;5;28;01mwith\u001b[39;00m \u001b[38;5;28;43mopen\u001b[39;49m\u001b[43m(\u001b[49m\u001b[43m_base_dir\u001b[49m\u001b[43m \u001b[49m\u001b[38;5;241;43m+\u001b[39;49m\u001b[43m \u001b[49m\u001b[43minstance_filename\u001b[49m\u001b[43m,\u001b[49m\u001b[43m \u001b[49m\u001b[38;5;124;43m\"\u001b[39;49m\u001b[38;5;124;43mw\u001b[39;49m\u001b[38;5;124;43m\"\u001b[39;49m\u001b[43m)\u001b[49m \u001b[38;5;28;01mas\u001b[39;00m f:\n\u001b[1;32m     19\u001b[0m         f\u001b[38;5;241m.\u001b[39mwrite(\u001b[38;5;124m\"\u001b[39m\u001b[38;5;124mNAME : \u001b[39m\u001b[38;5;124m\"\u001b[39m \u001b[38;5;241m+\u001b[39m instance_name \u001b[38;5;241m+\u001b[39m \u001b[38;5;124m\"\u001b[39m\u001b[38;5;130;01m\\n\u001b[39;00m\u001b[38;5;124m\"\u001b[39m)\n\u001b[1;32m     20\u001b[0m         f\u001b[38;5;241m.\u001b[39mwrite(\u001b[38;5;124m\"\u001b[39m\u001b[38;5;124mCOMMENT : blank\u001b[39m\u001b[38;5;130;01m\\n\u001b[39;00m\u001b[38;5;124m\"\u001b[39m)\n",
      "\u001b[0;31mFileNotFoundError\u001b[0m: [Errno 2] No such file or directory: './result/100/tsp/100_2.tsp'"
     ]
    }
   ],
   "source": [
    "from intf import lkh_helper as lkh_h\n",
    "\n",
    "seq = 2\n",
    "prob_size = 100\n",
    "inst_name = f'{prob_size}_{seq}'\n",
    "inst_filename = f'../result/{prob_size}/tsp/{inst_name}.tsp'\n",
    "\n",
    "lkh_h.write_instance(x_nodes, inst_name, inst_filename)\n",
    "#print(inst_filename, len(x))\n",
    "lkh_h.solve_LKH(prob_size, x_nodes, inst_name)"
   ]
  },
  {
   "cell_type": "code",
   "execution_count": null,
   "id": "74329f7b",
   "metadata": {},
   "outputs": [],
   "source": [
    "print(lkh_h.__file__)"
   ]
  },
  {
   "cell_type": "code",
   "execution_count": null,
   "id": "51b21782",
   "metadata": {},
   "outputs": [],
   "source": [
    "!export PYTHONPATH=../\n",
    "!echo $PYTHONPATH\n",
    "!env | grep PY"
   ]
  },
  {
   "cell_type": "code",
   "execution_count": null,
   "id": "0cf62187",
   "metadata": {},
   "outputs": [],
   "source": [
    "#print(x_nodes)"
   ]
  },
  {
   "cell_type": "code",
   "execution_count": null,
   "id": "4710e27e",
   "metadata": {},
   "outputs": [],
   "source": [
    "lkh_h.write_instance"
   ]
  },
  {
   "cell_type": "code",
   "execution_count": null,
   "id": "52935bd8",
   "metadata": {},
   "outputs": [],
   "source": []
  }
 ],
 "metadata": {
  "kernelspec": {
   "display_name": "Python 3",
   "language": "python",
   "name": "python3"
  },
  "language_info": {
   "codemirror_mode": {
    "name": "ipython",
    "version": 3
   },
   "file_extension": ".py",
   "mimetype": "text/x-python",
   "name": "python",
   "nbconvert_exporter": "python",
   "pygments_lexer": "ipython3",
   "version": "3.9.12"
  },
  "vscode": {
   "interpreter": {
    "hash": "ccc48cba39b1f4459234e21666e4737e80c10c62074b954fdcbe9cae915e458d"
   }
  }
 },
 "nbformat": 4,
 "nbformat_minor": 5
}
